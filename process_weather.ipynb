{
 "cells": [
  {
   "cell_type": "code",
   "execution_count": 1,
   "metadata": {},
   "outputs": [],
   "source": [
    "import numpy as np\n",
    "import pandas as pd\n",
    "import fm\n",
    "from datetime import datetime\n",
    "from sklearn.preprocessing import MinMaxScaler\n",
    "from sklearn.preprocessing import LabelEncoder\n",
    "from sklearn.metrics import mean_squared_error"
   ]
  },
  {
   "cell_type": "code",
   "execution_count": 2,
   "metadata": {},
   "outputs": [],
   "source": [
    "cities = ['city_' + x for x in ['A','B','C','D','E'] ]\n",
    "def parse(x):\n",
    "    x = x[:4] + ' '+ x[4:6] + ' '+x[6:]\n",
    "    return datetime.strptime(x, '%Y %m %d')\n",
    "# city = pd.read_csv('train_data/' + c + '/infection.csv',parse_dates = ['date'], date_parser=parse)"
   ]
  },
  {
   "cell_type": "code",
   "execution_count": 3,
   "metadata": {},
   "outputs": [],
   "source": [
    "def read_infection(c):\n",
    "    ifct = pd.read_csv('train_data/' + c + '/infection.csv',header = None)\n",
    "    ifct.columns = ['city', 'region', 'date', 'infections']\n",
    "    return ifct\n",
    "def read_data():\n",
    "    for c in cities:\n",
    "        yield read_infection(c)"
   ]
  },
  {
   "cell_type": "code",
   "execution_count": 31,
   "metadata": {},
   "outputs": [],
   "source": [
    "A,B,C,D,E = read_data()\n",
    "date_list = A[A.region==0].date.values"
   ]
  },
  {
   "cell_type": "code",
   "execution_count": 27,
   "metadata": {
    "tags": []
   },
   "outputs": [],
   "source": [
    "def read_weather(c):\n",
    "    wthr = pd.read_csv('train_data/' + c + '/weather.csv',header = None)\n",
    "    wthr.columns = ['date','hour','temp','humidity','fx','fs','fl','w']\n",
    "    wthr['humidity'] = wthr['humidity'].fillna(method=\"ffill\")\n",
    "    wthr[\"humidity\"] = [int(x[:-1])*0.01 for x in wthr[\"humidity\"].values]\n",
    "    wthr.drop(['fx','fs','fl','w'],axis = 1,inplace = True)\n",
    "    df = pd.DataFrame(date_list)\n",
    "    df.columns = ['date']\n",
    "    for i in range(24):\n",
    "        df[\"temp_\"+str(i)] = wthr[wthr.hour==i][\"temp\"].values\n",
    "        df[\"humidity_\"+str(i)] = wthr[wthr.hour==i][\"humidity\"].values\n",
    "    return df"
   ]
  },
  {
   "cell_type": "code",
   "execution_count": 32,
   "metadata": {},
   "outputs": [],
   "source": [
    "A = pd.merge(A,read_weather(cities[0]),on=\"date\")\n",
    "B = pd.merge(B,read_weather(cities[1]),on=\"date\")\n",
    "C = pd.merge(C,read_weather(cities[2]),on=\"date\")\n",
    "D = pd.merge(D,read_weather(cities[3]),on=\"date\")\n",
    "E = pd.merge(E,read_weather(cities[4]),on=\"date\")"
   ]
  },
  {
   "cell_type": "code",
   "execution_count": 57,
   "metadata": {},
   "outputs": [],
   "source": [
    "def read_migration(c):\n",
    "    m = pd.read_csv('train_data/' + c + '/migration.csv',header = None)\n",
    "    m.columns = [\"date\",\"from\",\"to\",\"index\"]\n",
    "    f = m[m[\"from\"]==c[-1]].groupby(\"date\").sum()\n",
    "    f.columns = [\"out_index\"]\n",
    "    t = m[m[\"to\"]==c[-1]].groupby(\"date\").sum()\n",
    "    t.columns = [\"in_index\"]\n",
    "    return f,t"
   ]
  },
  {
   "cell_type": "code",
   "execution_count": 60,
   "metadata": {},
   "outputs": [],
   "source": [
    "def merge_mig(df,index):\n",
    "    f,t = read_migration(cities[index])\n",
    "    df = pd.merge(df,f,on=\"date\")\n",
    "    df = pd.merge(df,t,on=\"date\")\n",
    "    return df"
   ]
  },
  {
   "cell_type": "code",
   "execution_count": 65,
   "metadata": {},
   "outputs": [],
   "source": [
    "A = merge_mig(A,0)\n",
    "B = merge_mig(A,1)\n",
    "C = merge_mig(A,2)\n",
    "D = merge_mig(A,3)\n",
    "E = merge_mig(A,4)"
   ]
  },
  {
   "cell_type": "code",
   "execution_count": 64,
   "metadata": {},
   "outputs": [],
   "source": [
    "A = pd.read_csv(\"A.csv\")\n",
    "B = pd.read_csv(\"B.csv\")\n",
    "C = pd.read_csv(\"C.csv\")\n",
    "D = pd.read_csv(\"D.csv\")\n",
    "E = pd.read_csv(\"E.csv\")"
   ]
  },
  {
   "cell_type": "code",
   "execution_count": 68,
   "metadata": {},
   "outputs": [],
   "source": [
    "A.to_csv(\"A.csv\",index=False)\n",
    "B.to_csv(\"B.csv\",index=False)\n",
    "C.to_csv(\"C.csv\",index=False)\n",
    "D.to_csv(\"D.csv\",index=False)\n",
    "E.to_csv(\"E.csv\",index=False)"
   ]
  }
 ],
 "metadata": {
  "kernelspec": {
   "display_name": "Python 3",
   "language": "python",
   "name": "python3"
  },
  "language_info": {
   "codemirror_mode": {
    "name": "ipython",
    "version": 3
   },
   "file_extension": ".py",
   "mimetype": "text/x-python",
   "name": "python",
   "nbconvert_exporter": "python",
   "pygments_lexer": "ipython3",
   "version": "3.6.5"
  }
 },
 "nbformat": 4,
 "nbformat_minor": 2
}
